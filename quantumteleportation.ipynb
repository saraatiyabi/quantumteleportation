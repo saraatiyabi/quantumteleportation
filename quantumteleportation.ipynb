{
  "nbformat": 4,
  "nbformat_minor": 0,
  "metadata": {
    "colab": {
      "provenance": [],
      "authorship_tag": "ABX9TyNmzgdqWCSXvoWY5VCyJ4ga",
      "include_colab_link": true
    },
    "kernelspec": {
      "name": "python3",
      "display_name": "Python 3"
    },
    "language_info": {
      "name": "python"
    }
  },
  "cells": [
    {
      "cell_type": "markdown",
      "metadata": {
        "id": "view-in-github",
        "colab_type": "text"
      },
      "source": [
        "<a href=\"https://colab.research.google.com/github/saraatiyabi/quantumteleportation/blob/master/quantumteleportation.ipynb\" target=\"_parent\"><img src=\"https://colab.research.google.com/assets/colab-badge.svg\" alt=\"Open In Colab\"/></a>"
      ]
    },
    {
      "cell_type": "markdown",
      "source": [
        "## **Quantum teleportation**\n",
        "\n",
        "Quantum teleportation is a process by which a quantum state can be transmitted by sending only two classical bits of information. This is accomplished by pre-sharing an entangled state between the sender (Alice) and the receiver (Bob). This entangled state allows the receiver (Bob) of the two classical bits of information to possess a qubit with the same state as the one held by the sender (Alice).\n",
        "\n",
        "In the cell below, we define a function which implements the circuit for quantum teleportation. This function inputs a gate which prepares the message qubit in some state to transmit from Alice to Bob."
      ],
      "metadata": {
        "id": "yOctVezbtYvO"
      }
    },
    {
      "cell_type": "code",
      "source": [
        "try:\n",
        "    import cirq\n",
        "except ImportError:\n",
        "    print(\"installing cirq...\")\n",
        "    !pip install --quiet cirq\n",
        "    print(\"installed cirq.\")\n",
        "    import cirq"
      ],
      "metadata": {
        "id": "ObnRCjjGro-f"
      },
      "execution_count": 2,
      "outputs": []
    },
    {
      "cell_type": "code",
      "source": [
        "import random\n",
        "import matplotlib.pyplot as plt\n",
        "import numpy as np"
      ],
      "metadata": {
        "id": "77upHmTrs56Y"
      },
      "execution_count": 6,
      "outputs": []
    },
    {
      "cell_type": "code",
      "execution_count": 3,
      "metadata": {
        "id": "voKRAVQurgrM"
      },
      "outputs": [],
      "source": [
        "def make_quantum_teleportation_circuit(gate):\n",
        "    \"\"\"Returns a circuit for quantum teleportation.\n",
        "\n",
        "    This circuit 'teleports' a random qubit state prepared by\n",
        "    the input gate from Alice to Bob.\n",
        "    \"\"\"\n",
        "    circuit = cirq.Circuit()\n",
        "\n",
        "    # Get the three qubits involved in the teleportation protocol.\n",
        "    msg = cirq.NamedQubit(\"Message\")\n",
        "    alice = cirq.NamedQubit(\"Alice\")\n",
        "    bob = cirq.NamedQubit(\"Bob\")\n",
        "\n",
        "    # The input gate prepares the message to send.\n",
        "    circuit.append(gate(msg))\n",
        "\n",
        "    # Create a Bell state shared between Alice and Bob.\n",
        "    circuit.append([cirq.H(alice), cirq.CNOT(alice, bob)])\n",
        "\n",
        "    # Bell measurement of the Message and Alice's entangled qubit.\n",
        "    circuit.append([cirq.CNOT(msg, alice), cirq.H(msg), cirq.measure(msg, alice)])\n",
        "\n",
        "    # Uses the two classical bits from the Bell measurement to recover the\n",
        "    # original quantum message on Bob's entangled qubit.\n",
        "    circuit.append([cirq.CNOT(alice, bob), cirq.CZ(msg, bob)])\n",
        "\n",
        "    return circuit"
      ]
    },
    {
      "cell_type": "markdown",
      "source": [
        "Now, we define a gate to prepare the message qubit in some state, then visualize the teleportation circuit."
      ],
      "metadata": {
        "id": "qFMb6y2BtspO"
      }
    },
    {
      "cell_type": "code",
      "source": [
        "\"\"\"Visualize the teleportation circuit.\"\"\"\n",
        "# Gate to put the message qubit in some state to send.\n",
        "gate = cirq.X ** 0.25\n",
        "\n",
        "# Create the teleportation circuit.\n",
        "circuit = make_quantum_teleportation_circuit(gate)\n",
        "print(\"Teleportation circuit:\\n\")\n",
        "print(circuit)"
      ],
      "metadata": {
        "colab": {
          "base_uri": "https://localhost:8080/"
        },
        "id": "t6nxXEobr-hJ",
        "outputId": "6786949a-212f-4c51-951a-5d92ba94d38c"
      },
      "execution_count": 4,
      "outputs": [
        {
          "output_type": "stream",
          "name": "stdout",
          "text": [
            "Teleportation circuit:\n",
            "\n",
            "Alice: ─────H────────@───X───────M───@───────\n",
            "                     │   │       │   │\n",
            "Bob: ────────────────X───┼───────┼───X───@───\n",
            "                         │       │       │\n",
            "Message: ───X^0.25───────@───H───M───────@───\n"
          ]
        }
      ]
    },
    {
      "cell_type": "markdown",
      "source": [
        "at the end of the circuit, Bob's qubit will be the state of the message qubit. We can verify this by simulating the circuit. First, we check what the state of the message qubit is given the above gate."
      ],
      "metadata": {
        "id": "q6tWOtBnt7ml"
      }
    },
    {
      "cell_type": "code",
      "source": [
        "\"\"\"Display the Bloch vector of the message qubit.\"\"\"\n",
        "message = cirq.Circuit(gate.on(cirq.NamedQubit(\"Message\"))).final_state_vector()\n",
        "message_bloch_vector = cirq.bloch_vector_from_state_vector(message, index=0)\n",
        "print(\"Bloch vector of message qubit:\")\n",
        "print(np.round(message_bloch_vector, 3))"
      ],
      "metadata": {
        "colab": {
          "base_uri": "https://localhost:8080/"
        },
        "id": "fc-LOidMr_OX",
        "outputId": "c2ba964b-cb0b-4b93-ae54-635e24fe92c1"
      },
      "execution_count": 7,
      "outputs": [
        {
          "output_type": "stream",
          "name": "stdout",
          "text": [
            "Bloch vector of message qubit:\n",
            "[ 0.    -0.707  0.707]\n"
          ]
        }
      ]
    },
    {
      "cell_type": "markdown",
      "source": [
        "Now we simulate the entire teleportation circuit and check what the final state of Bob's qubit is."
      ],
      "metadata": {
        "id": "qFuaUuUAuK-d"
      }
    },
    {
      "cell_type": "code",
      "source": [
        "\"\"\"Simulate the teleportation circuit and get the final state of Bob's qubit.\"\"\"\n",
        "# Get a simulator.\n",
        "sim = cirq.Simulator()\n",
        "\n",
        "# Simulate the teleportation circuit.\n",
        "result = sim.simulate(circuit)\n",
        "\n",
        "# Get the Bloch vector of Bob's qubit.\n",
        "bobs_bloch_vector = cirq.bloch_vector_from_state_vector(result.final_state_vector, index=1)\n",
        "print(\"Bloch vector of Bob's qubit:\")\n",
        "print(np.round(bobs_bloch_vector, 3))\n",
        "\n",
        "# Verify they are the same state!\n",
        "np.testing.assert_allclose(bobs_bloch_vector, message_bloch_vector, atol=1e-6)"
      ],
      "metadata": {
        "colab": {
          "base_uri": "https://localhost:8080/"
        },
        "id": "xA6ukiQot-_0",
        "outputId": "cfb206f5-5f34-442b-fb6c-c5b2f68855c6"
      },
      "execution_count": 8,
      "outputs": [
        {
          "output_type": "stream",
          "name": "stdout",
          "text": [
            "Bloch vector of Bob's qubit:\n",
            "[ 0.    -0.707  0.707]\n"
          ]
        }
      ]
    }
  ]
}